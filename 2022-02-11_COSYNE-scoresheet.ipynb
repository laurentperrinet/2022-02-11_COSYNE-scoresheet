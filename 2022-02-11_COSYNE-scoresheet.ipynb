{
 "cells": [
  {
   "cell_type": "markdown",
   "metadata": {},
   "source": [
    "tl;dr : *Crowd-sourcing raw scores for your COSYNE reviewer feedback.*\n",
    "\n",
    "Dear community, \n",
    "\n",
    "COSYNE is a great conference which plays a pivotal role in our field. If you have submitted an abstract (or several) you have recently received your scores. I am not affiliated to COSYNE - yet willing to contribute in some way: I would like to ask one minute of your time to report the raw scores from your reviewers. I will summarize in a few lines the results in one week time (11/02). The more numerous your feedbacks the better their precision!\n",
    "\n",
    "Thanks!"
   ]
  },
  {
   "cell_type": "markdown",
   "metadata": {},
   "source": [
    "## importing data\n",
    "\n",
    "The data was collected using a [Google form](https://forms.gle/n5wzU2WJ5E6n5X1E7) which thanks to a public link can be directly accessed to [pandas](pandas.pydata.org/):"
   ]
  },
  {
   "cell_type": "code",
   "execution_count": 55,
   "metadata": {},
   "outputs": [
    {
     "data": {
      "text/html": [
       "<div>\n",
       "<style scoped>\n",
       "    .dataframe tbody tr th:only-of-type {\n",
       "        vertical-align: middle;\n",
       "    }\n",
       "\n",
       "    .dataframe tbody tr th {\n",
       "        vertical-align: top;\n",
       "    }\n",
       "\n",
       "    .dataframe thead th {\n",
       "        text-align: right;\n",
       "    }\n",
       "</style>\n",
       "<table border=\"1\" class=\"dataframe\">\n",
       "  <thead>\n",
       "    <tr style=\"text-align: right;\">\n",
       "      <th></th>\n",
       "      <th>Horodateur</th>\n",
       "      <th>Reviewer #1 score</th>\n",
       "      <th>Reviewer #1 confidence</th>\n",
       "      <th>Reviewer #2 score</th>\n",
       "      <th>Reviewer #2 confidence</th>\n",
       "      <th>Reviewer #3 score</th>\n",
       "      <th>Reviewer #3 confidence</th>\n",
       "      <th>Abstract accepted?</th>\n",
       "      <th>Comments?</th>\n",
       "    </tr>\n",
       "  </thead>\n",
       "  <tbody>\n",
       "    <tr>\n",
       "      <th>74</th>\n",
       "      <td>07/02/2022 16:21:37</td>\n",
       "      <td>7.0</td>\n",
       "      <td>5.0</td>\n",
       "      <td>5.0</td>\n",
       "      <td>4.0</td>\n",
       "      <td>8.0</td>\n",
       "      <td>4.0</td>\n",
       "      <td>Yes</td>\n",
       "      <td>NaN</td>\n",
       "    </tr>\n",
       "    <tr>\n",
       "      <th>75</th>\n",
       "      <td>07/02/2022 18:37:04</td>\n",
       "      <td>6.0</td>\n",
       "      <td>4.0</td>\n",
       "      <td>4.0</td>\n",
       "      <td>5.0</td>\n",
       "      <td>6.0</td>\n",
       "      <td>5.0</td>\n",
       "      <td>No</td>\n",
       "      <td>NaN</td>\n",
       "    </tr>\n",
       "    <tr>\n",
       "      <th>76</th>\n",
       "      <td>08/02/2022 09:23:33</td>\n",
       "      <td>5.0</td>\n",
       "      <td>4.0</td>\n",
       "      <td>1.0</td>\n",
       "      <td>5.0</td>\n",
       "      <td>9.0</td>\n",
       "      <td>4.0</td>\n",
       "      <td>No</td>\n",
       "      <td>NaN</td>\n",
       "    </tr>\n",
       "    <tr>\n",
       "      <th>77</th>\n",
       "      <td>08/02/2022 13:26:53</td>\n",
       "      <td>9.0</td>\n",
       "      <td>4.0</td>\n",
       "      <td>5.0</td>\n",
       "      <td>4.0</td>\n",
       "      <td>6.0</td>\n",
       "      <td>4.0</td>\n",
       "      <td>Yes</td>\n",
       "      <td>NaN</td>\n",
       "    </tr>\n",
       "    <tr>\n",
       "      <th>78</th>\n",
       "      <td>08/02/2022 16:20:22</td>\n",
       "      <td>2.0</td>\n",
       "      <td>4.0</td>\n",
       "      <td>8.0</td>\n",
       "      <td>5.0</td>\n",
       "      <td>5.0</td>\n",
       "      <td>4.0</td>\n",
       "      <td>No</td>\n",
       "      <td>NaN</td>\n",
       "    </tr>\n",
       "  </tbody>\n",
       "</table>\n",
       "</div>"
      ],
      "text/plain": [
       "             Horodateur  Reviewer #1 score  Reviewer #1 confidence  \\\n",
       "74  07/02/2022 16:21:37                7.0                     5.0   \n",
       "75  07/02/2022 18:37:04                6.0                     4.0   \n",
       "76  08/02/2022 09:23:33                5.0                     4.0   \n",
       "77  08/02/2022 13:26:53                9.0                     4.0   \n",
       "78  08/02/2022 16:20:22                2.0                     4.0   \n",
       "\n",
       "    Reviewer #2 score  Reviewer #2 confidence  Reviewer #3 score  \\\n",
       "74                5.0                     4.0                8.0   \n",
       "75                4.0                     5.0                6.0   \n",
       "76                1.0                     5.0                9.0   \n",
       "77                5.0                     4.0                6.0   \n",
       "78                8.0                     5.0                5.0   \n",
       "\n",
       "    Reviewer #3 confidence Abstract accepted? Comments?  \n",
       "74                     4.0                Yes       NaN  \n",
       "75                     5.0                 No       NaN  \n",
       "76                     4.0                 No       NaN  \n",
       "77                     4.0                Yes       NaN  \n",
       "78                     4.0                 No       NaN  "
      ]
     },
     "execution_count": 55,
     "metadata": {},
     "output_type": "execute_result"
    }
   ],
   "source": [
    "import numpy as np\n",
    "import pandas as pd\n",
    "url = 'https://docs.google.com/spreadsheets/d/1F2ptf6mlwvV5jaAv6iQusFbDElTIjrXi-HhURmz8E_0/export?format=csv'\n",
    "score_sheet = pd.read_csv(url)\n",
    "score_sheet.tail()"
   ]
  },
  {
   "cell_type": "code",
   "execution_count": 56,
   "metadata": {},
   "outputs": [
    {
     "data": {
      "text/plain": [
       "Index(['Horodateur', 'Reviewer #1 score', 'Reviewer #1 confidence',\n",
       "       'Reviewer #2 score', 'Reviewer #2 confidence', 'Reviewer #3 score',\n",
       "       'Reviewer #3 confidence', 'Abstract accepted?', 'Comments?'],\n",
       "      dtype='object')"
      ]
     },
     "execution_count": 56,
     "metadata": {},
     "output_type": "execute_result"
    }
   ],
   "source": [
    "score_sheet.columns\n"
   ]
  },
  {
   "cell_type": "markdown",
   "metadata": {},
   "source": [
    "Thanks for the people leaving comments:"
   ]
  },
  {
   "cell_type": "code",
   "execution_count": 57,
   "metadata": {},
   "outputs": [
    {
     "data": {
      "text/plain": [
       "2                                                    HL\n",
       "3                                                    JN\n",
       "19    Reviewer 1 was in a rush it seems to read the ...\n",
       "29    Reviewer 2 had only a problem with the relevan...\n",
       "42                            Thank you for this study!\n",
       "45           huge spread in scores with high confidence\n",
       "53    reviewers not familiar with the type of resear...\n",
       "62                            Thank you for doing this!\n",
       "Name: Comments?, dtype: object"
      ]
     },
     "execution_count": 57,
     "metadata": {},
     "output_type": "execute_result"
    }
   ],
   "source": [
    "score_sheet[score_sheet['Comments?'].notna()]['Comments?']"
   ]
  },
  {
   "cell_type": "code",
   "execution_count": 58,
   "metadata": {},
   "outputs": [
    {
     "data": {
      "text/html": [
       "<div>\n",
       "<style scoped>\n",
       "    .dataframe tbody tr th:only-of-type {\n",
       "        vertical-align: middle;\n",
       "    }\n",
       "\n",
       "    .dataframe tbody tr th {\n",
       "        vertical-align: top;\n",
       "    }\n",
       "\n",
       "    .dataframe thead th {\n",
       "        text-align: right;\n",
       "    }\n",
       "</style>\n",
       "<table border=\"1\" class=\"dataframe\">\n",
       "  <thead>\n",
       "    <tr style=\"text-align: right;\">\n",
       "      <th></th>\n",
       "      <th>Horodateur</th>\n",
       "      <th>Reviewer #1 score</th>\n",
       "      <th>Reviewer #1 confidence</th>\n",
       "      <th>Reviewer #2 score</th>\n",
       "      <th>Reviewer #2 confidence</th>\n",
       "      <th>Reviewer #3 score</th>\n",
       "      <th>Reviewer #3 confidence</th>\n",
       "      <th>Abstract accepted?</th>\n",
       "    </tr>\n",
       "  </thead>\n",
       "  <tbody>\n",
       "    <tr>\n",
       "      <th>74</th>\n",
       "      <td>07/02/2022 16:21:37</td>\n",
       "      <td>7.0</td>\n",
       "      <td>5.0</td>\n",
       "      <td>5.0</td>\n",
       "      <td>4.0</td>\n",
       "      <td>8.0</td>\n",
       "      <td>4.0</td>\n",
       "      <td>Yes</td>\n",
       "    </tr>\n",
       "    <tr>\n",
       "      <th>75</th>\n",
       "      <td>07/02/2022 18:37:04</td>\n",
       "      <td>6.0</td>\n",
       "      <td>4.0</td>\n",
       "      <td>4.0</td>\n",
       "      <td>5.0</td>\n",
       "      <td>6.0</td>\n",
       "      <td>5.0</td>\n",
       "      <td>No</td>\n",
       "    </tr>\n",
       "    <tr>\n",
       "      <th>76</th>\n",
       "      <td>08/02/2022 09:23:33</td>\n",
       "      <td>5.0</td>\n",
       "      <td>4.0</td>\n",
       "      <td>1.0</td>\n",
       "      <td>5.0</td>\n",
       "      <td>9.0</td>\n",
       "      <td>4.0</td>\n",
       "      <td>No</td>\n",
       "    </tr>\n",
       "    <tr>\n",
       "      <th>77</th>\n",
       "      <td>08/02/2022 13:26:53</td>\n",
       "      <td>9.0</td>\n",
       "      <td>4.0</td>\n",
       "      <td>5.0</td>\n",
       "      <td>4.0</td>\n",
       "      <td>6.0</td>\n",
       "      <td>4.0</td>\n",
       "      <td>Yes</td>\n",
       "    </tr>\n",
       "    <tr>\n",
       "      <th>78</th>\n",
       "      <td>08/02/2022 16:20:22</td>\n",
       "      <td>2.0</td>\n",
       "      <td>4.0</td>\n",
       "      <td>8.0</td>\n",
       "      <td>5.0</td>\n",
       "      <td>5.0</td>\n",
       "      <td>4.0</td>\n",
       "      <td>No</td>\n",
       "    </tr>\n",
       "  </tbody>\n",
       "</table>\n",
       "</div>"
      ],
      "text/plain": [
       "             Horodateur  Reviewer #1 score  Reviewer #1 confidence  \\\n",
       "74  07/02/2022 16:21:37                7.0                     5.0   \n",
       "75  07/02/2022 18:37:04                6.0                     4.0   \n",
       "76  08/02/2022 09:23:33                5.0                     4.0   \n",
       "77  08/02/2022 13:26:53                9.0                     4.0   \n",
       "78  08/02/2022 16:20:22                2.0                     4.0   \n",
       "\n",
       "    Reviewer #2 score  Reviewer #2 confidence  Reviewer #3 score  \\\n",
       "74                5.0                     4.0                8.0   \n",
       "75                4.0                     5.0                6.0   \n",
       "76                1.0                     5.0                9.0   \n",
       "77                5.0                     4.0                6.0   \n",
       "78                8.0                     5.0                5.0   \n",
       "\n",
       "    Reviewer #3 confidence Abstract accepted?  \n",
       "74                     4.0                Yes  \n",
       "75                     5.0                 No  \n",
       "76                     4.0                 No  \n",
       "77                     4.0                Yes  \n",
       "78                     4.0                 No  "
      ]
     },
     "execution_count": 58,
     "metadata": {},
     "output_type": "execute_result"
    }
   ],
   "source": [
    "score_sheet = score_sheet.drop(['Comments?'], axis=1)\n",
    "score_sheet.tail()"
   ]
  },
  {
   "cell_type": "markdown",
   "metadata": {},
   "source": [
    "A quick sanity check for missing data:"
   ]
  },
  {
   "cell_type": "code",
   "execution_count": 59,
   "metadata": {},
   "outputs": [
    {
     "name": "stdout",
     "output_type": "stream",
     "text": [
      "             Horodateur  Reviewer #1 score  Reviewer #1 confidence  \\\n",
      "0   04/02/2022 08:54:01                NaN                     NaN   \n",
      "9   04/02/2022 10:15:22                NaN                     4.0   \n",
      "52  04/02/2022 20:16:41                NaN                     NaN   \n",
      "\n",
      "    Reviewer #2 score  Reviewer #2 confidence  Reviewer #3 score  \\\n",
      "0                 NaN                     NaN                NaN   \n",
      "9                 3.0                     3.0                4.0   \n",
      "52                NaN                     NaN                NaN   \n",
      "\n",
      "    Reviewer #3 confidence Abstract accepted?  \n",
      "0                      NaN                NaN  \n",
      "9                      4.0                 No  \n",
      "52                     NaN                 No  \n",
      "             Horodateur  Reviewer #1 score  Reviewer #1 confidence  \\\n",
      "0   04/02/2022 08:54:01                NaN                     NaN   \n",
      "52  04/02/2022 20:16:41                NaN                     NaN   \n",
      "\n",
      "    Reviewer #2 score  Reviewer #2 confidence  Reviewer #3 score  \\\n",
      "0                 NaN                     NaN                NaN   \n",
      "52                NaN                     NaN                NaN   \n",
      "\n",
      "    Reviewer #3 confidence Abstract accepted?  \n",
      "0                      NaN                NaN  \n",
      "52                     NaN                 No  \n",
      "             Horodateur  Reviewer #1 score  Reviewer #1 confidence  \\\n",
      "0   04/02/2022 08:54:01                NaN                     NaN   \n",
      "52  04/02/2022 20:16:41                NaN                     NaN   \n",
      "\n",
      "    Reviewer #2 score  Reviewer #2 confidence  Reviewer #3 score  \\\n",
      "0                 NaN                     NaN                NaN   \n",
      "52                NaN                     NaN                NaN   \n",
      "\n",
      "    Reviewer #3 confidence Abstract accepted?  \n",
      "0                      NaN                NaN  \n",
      "52                     NaN                 No  \n",
      "             Horodateur  Reviewer #1 score  Reviewer #1 confidence  \\\n",
      "0   04/02/2022 08:54:01                NaN                     NaN   \n",
      "52  04/02/2022 20:16:41                NaN                     NaN   \n",
      "\n",
      "    Reviewer #2 score  Reviewer #2 confidence  Reviewer #3 score  \\\n",
      "0                 NaN                     NaN                NaN   \n",
      "52                NaN                     NaN                NaN   \n",
      "\n",
      "    Reviewer #3 confidence Abstract accepted?  \n",
      "0                      NaN                NaN  \n",
      "52                     NaN                 No  \n",
      "             Horodateur  Reviewer #1 score  Reviewer #1 confidence  \\\n",
      "0   04/02/2022 08:54:01                NaN                     NaN   \n",
      "52  04/02/2022 20:16:41                NaN                     NaN   \n",
      "\n",
      "    Reviewer #2 score  Reviewer #2 confidence  Reviewer #3 score  \\\n",
      "0                 NaN                     NaN                NaN   \n",
      "52                NaN                     NaN                NaN   \n",
      "\n",
      "    Reviewer #3 confidence Abstract accepted?  \n",
      "0                      NaN                NaN  \n",
      "52                     NaN                 No  \n",
      "             Horodateur  Reviewer #1 score  Reviewer #1 confidence  \\\n",
      "0   04/02/2022 08:54:01                NaN                     NaN   \n",
      "52  04/02/2022 20:16:41                NaN                     NaN   \n",
      "\n",
      "    Reviewer #2 score  Reviewer #2 confidence  Reviewer #3 score  \\\n",
      "0                 NaN                     NaN                NaN   \n",
      "52                NaN                     NaN                NaN   \n",
      "\n",
      "    Reviewer #3 confidence Abstract accepted?  \n",
      "0                      NaN                NaN  \n",
      "52                     NaN                 No  \n"
     ]
    }
   ],
   "source": [
    "for i in [1, 2, 3]:\n",
    "    print(score_sheet[score_sheet[f'Reviewer #{i} score'].isna()])\n",
    "    print(score_sheet[score_sheet[f'Reviewer #{i} confidence'].isna()])    "
   ]
  },
  {
   "cell_type": "markdown",
   "metadata": {},
   "source": [
    "It seems we should remove lines `0`,  `9` and `52` to get a cleaner score-sheet and avoid overkill hacks. "
   ]
  },
  {
   "cell_type": "code",
   "execution_count": 60,
   "metadata": {},
   "outputs": [
    {
     "data": {
      "text/html": [
       "<div>\n",
       "<style scoped>\n",
       "    .dataframe tbody tr th:only-of-type {\n",
       "        vertical-align: middle;\n",
       "    }\n",
       "\n",
       "    .dataframe tbody tr th {\n",
       "        vertical-align: top;\n",
       "    }\n",
       "\n",
       "    .dataframe thead th {\n",
       "        text-align: right;\n",
       "    }\n",
       "</style>\n",
       "<table border=\"1\" class=\"dataframe\">\n",
       "  <thead>\n",
       "    <tr style=\"text-align: right;\">\n",
       "      <th></th>\n",
       "      <th>Horodateur</th>\n",
       "      <th>Reviewer #1 score</th>\n",
       "      <th>Reviewer #1 confidence</th>\n",
       "      <th>Reviewer #2 score</th>\n",
       "      <th>Reviewer #2 confidence</th>\n",
       "      <th>Reviewer #3 score</th>\n",
       "      <th>Reviewer #3 confidence</th>\n",
       "      <th>Abstract accepted?</th>\n",
       "    </tr>\n",
       "  </thead>\n",
       "  <tbody>\n",
       "    <tr>\n",
       "      <th>1</th>\n",
       "      <td>04/02/2022 09:14:56</td>\n",
       "      <td>3.0</td>\n",
       "      <td>4.0</td>\n",
       "      <td>5.0</td>\n",
       "      <td>1.0</td>\n",
       "      <td>4.0</td>\n",
       "      <td>3.0</td>\n",
       "      <td>No</td>\n",
       "    </tr>\n",
       "    <tr>\n",
       "      <th>2</th>\n",
       "      <td>04/02/2022 09:15:45</td>\n",
       "      <td>4.0</td>\n",
       "      <td>3.0</td>\n",
       "      <td>9.0</td>\n",
       "      <td>3.0</td>\n",
       "      <td>4.0</td>\n",
       "      <td>4.0</td>\n",
       "      <td>No</td>\n",
       "    </tr>\n",
       "    <tr>\n",
       "      <th>3</th>\n",
       "      <td>04/02/2022 09:24:01</td>\n",
       "      <td>5.0</td>\n",
       "      <td>4.0</td>\n",
       "      <td>2.0</td>\n",
       "      <td>5.0</td>\n",
       "      <td>2.0</td>\n",
       "      <td>4.0</td>\n",
       "      <td>No</td>\n",
       "    </tr>\n",
       "    <tr>\n",
       "      <th>4</th>\n",
       "      <td>04/02/2022 09:47:03</td>\n",
       "      <td>7.0</td>\n",
       "      <td>4.0</td>\n",
       "      <td>6.0</td>\n",
       "      <td>1.0</td>\n",
       "      <td>6.0</td>\n",
       "      <td>4.0</td>\n",
       "      <td>Yes</td>\n",
       "    </tr>\n",
       "    <tr>\n",
       "      <th>5</th>\n",
       "      <td>04/02/2022 09:49:27</td>\n",
       "      <td>8.0</td>\n",
       "      <td>4.0</td>\n",
       "      <td>8.0</td>\n",
       "      <td>3.0</td>\n",
       "      <td>4.0</td>\n",
       "      <td>3.0</td>\n",
       "      <td>Yes</td>\n",
       "    </tr>\n",
       "  </tbody>\n",
       "</table>\n",
       "</div>"
      ],
      "text/plain": [
       "            Horodateur  Reviewer #1 score  Reviewer #1 confidence  \\\n",
       "1  04/02/2022 09:14:56                3.0                     4.0   \n",
       "2  04/02/2022 09:15:45                4.0                     3.0   \n",
       "3  04/02/2022 09:24:01                5.0                     4.0   \n",
       "4  04/02/2022 09:47:03                7.0                     4.0   \n",
       "5  04/02/2022 09:49:27                8.0                     4.0   \n",
       "\n",
       "   Reviewer #2 score  Reviewer #2 confidence  Reviewer #3 score  \\\n",
       "1                5.0                     1.0                4.0   \n",
       "2                9.0                     3.0                4.0   \n",
       "3                2.0                     5.0                2.0   \n",
       "4                6.0                     1.0                6.0   \n",
       "5                8.0                     3.0                4.0   \n",
       "\n",
       "   Reviewer #3 confidence Abstract accepted?  \n",
       "1                     3.0                 No  \n",
       "2                     4.0                 No  \n",
       "3                     4.0                 No  \n",
       "4                     4.0                Yes  \n",
       "5                     3.0                Yes  "
      ]
     },
     "execution_count": 60,
     "metadata": {},
     "output_type": "execute_result"
    }
   ],
   "source": [
    "score_sheet = score_sheet.drop([0, 9, 52], axis=0)\n",
    "score_sheet.head()"
   ]
  },
  {
   "cell_type": "markdown",
   "metadata": {},
   "source": [
    "## more data\n",
    "The message received by `cosyne@confmaster.net` mentions some numbers:"
   ]
  },
  {
   "cell_type": "code",
   "execution_count": 61,
   "metadata": {},
   "outputs": [],
   "source": [
    "reviewer_pool = 215\n",
    "total_reviews = 2639 # out of 2643 - why is that number of 5 out of 2643 mentionned?\n",
    "submitted_abstracts = 881\n"
   ]
  },
  {
   "cell_type": "markdown",
   "metadata": {
    "tags": []
   },
   "source": [
    "## analyzing raw scores\n",
    "\n",
    "Now that we have all the date in hand, Let's do a quick analysis."
   ]
  },
  {
   "cell_type": "code",
   "execution_count": 88,
   "metadata": {},
   "outputs": [
    {
     "data": {
      "image/png": "[encoded data removed]",
      "text/plain": [
       "<Figure size 936x360 with 1 Axes>"
      ]
     },
     "metadata": {
      "needs_background": "light"
     },
     "output_type": "display_data"
    }
   ],
   "source": [
    "\n",
    "fig, ax = plt.subplots(figsize=(13, 5))\n",
    "for i in [1, 2, 3]:\n",
    "    ax = score_sheet[f'Reviewer #{i} score'].hist(bins=np.arange(1, 10), ax=ax, alpha=.3)\n",
    "ax.set_xlabel('Total score (from 1 to 9)')\n",
    "ax.set_xlim(1, 9)\n",
    "ax.set_ylabel('#');"
   ]
  },
  {
   "cell_type": "code",
   "execution_count": 116,
   "metadata": {},
   "outputs": [
    {
     "data": {
      "image/png": "[encoded data removed]",
      "text/plain": [
       "<Figure size 936x360 with 1 Axes>"
      ]
     },
     "metadata": {
      "needs_background": "light"
     },
     "output_type": "display_data"
    }
   ],
   "source": [
    "fig, ax = plt.subplots(figsize=(13, 5))\n",
    "cols = ['Reviewer #1 score', 'Reviewer #2 score', 'Reviewer #3 score']\n",
    "ax = score_sheet[cols].plot.hist(stacked=True, ax=ax, bins=9)\n",
    "ax.set_xlabel('Reviewer confidence (from 1 to 9)')\n",
    "ax.set_xlim(1, 10)\n",
    "ax.set_xticks(np.arange(1, 10)+.5)\n",
    "ax.set_xticklabels(np.arange(1, 10))\n",
    "ax.set_ylabel('#');"
   ]
  },
  {
   "cell_type": "code",
   "execution_count": 93,
   "metadata": {},
   "outputs": [
    {
     "data": {
      "text/plain": [
       "array([1.5, 2.5, 3.5, 4.5, 5.5])"
      ]
     },
     "execution_count": 93,
     "metadata": {},
     "output_type": "execute_result"
    }
   ],
   "source": [
    "np.arange(1, 6)+.5"
   ]
  },
  {
   "cell_type": "code",
   "execution_count": 98,
   "metadata": {},
   "outputs": [
    {
     "data": {
      "image/png": "[encoded data removed]",
      "text/plain": [
       "<Figure size 936x360 with 1 Axes>"
      ]
     },
     "metadata": {
      "needs_background": "light"
     },
     "output_type": "display_data"
    }
   ],
   "source": [
    "fig, ax = plt.subplots(figsize=(13, 5))\n",
    "for i in [1, 2, 3]:\n",
    "    ax = score_sheet[f'Reviewer #{i} confidence'].hist(bins=np.arange(1, 6), ax=ax, alpha=.3)\n",
    "ax.set_xlabel('Reviewer confidence (from 1 to 5)')\n",
    "ax.set_xlim(1, 5)\n",
    "ax.set_xticks(np.arange(1, 6)+.5)\n",
    "ax.set_xticklabels(np.arange(1, 6))\n",
    "ax.set_ylabel('#');"
   ]
  },
  {
   "cell_type": "code",
   "execution_count": 108,
   "metadata": {},
   "outputs": [
    {
     "name": "stderr",
     "output_type": "stream",
     "text": [
      "/tmp/ipykernel_751236/1636274826.py:6: UserWarning: FixedFormatter should only be used together with FixedLocator\n",
      "  ax.set_xticklabels(np.arange(1, 6))\n"
     ]
    },
    {
     "data": {
      "image/png": "[encoded data removed]",
      "text/plain": [
       "<Figure size 936x360 with 1 Axes>"
      ]
     },
     "metadata": {
      "needs_background": "light"
     },
     "output_type": "display_data"
    }
   ],
   "source": [
    "fig, ax = plt.subplots(figsize=(13, 5))\n",
    "cols = ['Reviewer #1 confidence', 'Reviewer #2 confidence', 'Reviewer #3 confidence']\n",
    "ax = score_sheet[cols].plot.hist(stacked=True, ax=ax)\n",
    "ax.set_xlabel('Reviewer confidence (from 1 to 5)')\n",
    "#ax.set_xticks(np.arange(1, 6))\n",
    "#ax.set_xticklabels(np.arange(1, 6))\n",
    "\n",
    "ax.set_ylabel('#');"
   ]
  },
  {
   "cell_type": "markdown",
   "metadata": {
    "tags": []
   },
   "source": [
    "## retrieving the razor score\n",
    "\n",
    "The message mentions the method:\n",
    "\n",
    "    Each review comprised a short comment and a score between 1 and 10. Individual scores were weighed by a confidence factor and averaged for each submission.\n",
    "\n",
    "    After considering additional constraining factors, the top scoring 54 % of submissions were accepted.\n",
    "    "
   ]
  },
  {
   "cell_type": "code",
   "execution_count": 62,
   "metadata": {},
   "outputs": [],
   "source": [
    "score_quantile = .54"
   ]
  },
  {
   "cell_type": "markdown",
   "metadata": {},
   "source": [
    "This is my attempt at deriving a score:"
   ]
  },
  {
   "cell_type": "code",
   "execution_count": 63,
   "metadata": {},
   "outputs": [],
   "source": [
    "p = 1 # trying out different norms... confidence=variance? confidence=std?\n",
    "total_score = score_sheet['Reviewer #1 score'] * score_sheet['Reviewer #1 confidence']**p\n",
    "total_score += score_sheet['Reviewer #2 score'] * score_sheet['Reviewer #2 confidence']**p\n",
    "total_score += score_sheet['Reviewer #3 score'] * score_sheet['Reviewer #3 confidence']**p\n",
    "total_weight = score_sheet['Reviewer #1 confidence']**p\n",
    "total_weight += score_sheet['Reviewer #2 confidence']**p\n",
    "total_weight += score_sheet['Reviewer #3 confidence']**p\n",
    "score = total_score / total_weight"
   ]
  },
  {
   "cell_type": "code",
   "execution_count": 75,
   "metadata": {},
   "outputs": [
    {
     "data": {
      "text/plain": [
       "5.5"
      ]
     },
     "execution_count": 75,
     "metadata": {},
     "output_type": "execute_result"
    }
   ],
   "source": [
    "score[2]"
   ]
  },
  {
   "cell_type": "code",
   "execution_count": 74,
   "metadata": {},
   "outputs": [
    {
     "data": {
      "text/plain": [
       "(1     3.625000\n",
       " 2     5.500000\n",
       " 3     2.923077\n",
       " 4     6.444444\n",
       " 5     6.800000\n",
       "         ...   \n",
       " 74    6.692308\n",
       " 75    5.285714\n",
       " 76    4.692308\n",
       " 77    6.666667\n",
       " 78    5.230769\n",
       " Length: 76, dtype: float64,\n",
       " 5.5,\n",
       " 1      No\n",
       " 2      No\n",
       " 3      No\n",
       " 4     Yes\n",
       " 5     Yes\n",
       "      ... \n",
       " 74    Yes\n",
       " 75     No\n",
       " 76     No\n",
       " 77    Yes\n",
       " 78     No\n",
       " Name: Abstract accepted?, Length: 76, dtype: object)"
      ]
     },
     "execution_count": 74,
     "metadata": {},
     "output_type": "execute_result"
    }
   ],
   "source": [
    "score, score_sheet['Abstract accepted?']"
   ]
  },
  {
   "cell_type": "code",
   "execution_count": 85,
   "metadata": {},
   "outputs": [
    {
     "data": {
      "image/png": "[encoded data removed]",
      "text/plain": [
       "<Figure size 936x360 with 1 Axes>"
      ]
     },
     "metadata": {
      "needs_background": "light"
     },
     "output_type": "display_data"
    }
   ],
   "source": [
    "fig, ax = plt.subplots(figsize=(13, 5))\n",
    "ax = score.hist(bins=np.arange(1, 10), ax=ax)\n",
    "ax.set_xlabel('Total score (from 1 to 9)')\n",
    "ax.set_ylabel('#');"
   ]
  },
  {
   "cell_type": "code",
   "execution_count": 84,
   "metadata": {},
   "outputs": [
    {
     "data": {
      "image/png": "[encoded data removed]",
      "text/plain": [
       "<Figure size 936x360 with 1 Axes>"
      ]
     },
     "metadata": {
      "needs_background": "light"
     },
     "output_type": "display_data"
    }
   ],
   "source": [
    "fig, ax = plt.subplots(figsize=(13, 5))\n",
    "ax = total_weight.hist(bins=np.arange(1, 15), ax=ax)\n",
    "ax.set_xlabel('Sum of confidences (from 1 to 9)')\n",
    "ax.set_ylabel('#');"
   ]
  },
  {
   "cell_type": "code",
   "execution_count": 65,
   "metadata": {},
   "outputs": [
    {
     "data": {
      "text/plain": [
       "((76,), (76,))"
      ]
     },
     "execution_count": 65,
     "metadata": {},
     "output_type": "execute_result"
    }
   ],
   "source": [
    "score.shape, score_sheet['Abstract accepted?'].shape"
   ]
  },
  {
   "cell_type": "code",
   "execution_count": 66,
   "metadata": {},
   "outputs": [
    {
     "data": {
      "text/plain": [
       "'No'"
      ]
     },
     "execution_count": 66,
     "metadata": {},
     "output_type": "execute_result"
    }
   ],
   "source": [
    "score_sheet['Abstract accepted?'][34]"
   ]
  },
  {
   "cell_type": "code",
   "execution_count": 67,
   "metadata": {},
   "outputs": [
    {
     "data": {
      "image/png": "[encoded data removed]",
      "text/plain": [
       "<Figure size 936x360 with 1 Axes>"
      ]
     },
     "metadata": {
      "needs_background": "light"
     },
     "output_type": "display_data"
    }
   ],
   "source": [
    "import matplotlib.pyplot as plt\n",
    "fig, ax = plt.subplots(figsize=(13, 5))\n",
    "ax.scatter(score, score_sheet['Abstract accepted?']=='Yes', marker='x')\n",
    "ax.set_xlabel('Total score (from 1 to 9)')\n",
    "ax.set_ylabel('Outcome');"
   ]
  },
  {
   "cell_type": "markdown",
   "metadata": {},
   "source": [
    "An (overkill) method would be to fit a [sigmoid](https://laurentperrinet.github.io/sciblog/posts/2020-04-08-fitting-a-psychometric-curve-using-pytorch.html)... Let's rather look "
   ]
  },
  {
   "cell_type": "code",
   "execution_count": 69,
   "metadata": {},
   "outputs": [
    {
     "name": "stdout",
     "output_type": "stream",
     "text": [
      "threshold score for an accepted abstract 6.038\n"
     ]
    }
   ],
   "source": [
    "threshold = score.quantile(score_quantile)\n",
    "print(f\"threshold score for an accepted abstract {threshold:.3f}\")"
   ]
  },
  {
   "cell_type": "code",
   "execution_count": 70,
   "metadata": {},
   "outputs": [
    {
     "name": "stdout",
     "output_type": "stream",
     "text": [
      "Abstracts rejected above the threshold = 3\n"
     ]
    }
   ],
   "source": [
    "false_negatives = score[(score > threshold) & (score_sheet['Abstract accepted?']=='No')]\n",
    "print(f\"Abstracts rejected above the threshold = {len(false_negatives)}\")"
   ]
  },
  {
   "cell_type": "code",
   "execution_count": 73,
   "metadata": {},
   "outputs": [
    {
     "name": "stdout",
     "output_type": "stream",
     "text": [
      "Abstracts accepted below the threshold = 3\n"
     ]
    }
   ],
   "source": [
    "false_positives = score[(score < threshold) & (score_sheet['Abstract accepted?']=='Yes')]\n",
    "print(f\"Abstracts accepted below the threshold = {len(false_negatives)}\")"
   ]
  },
  {
   "cell_type": "markdown",
   "metadata": {},
   "source": [
    "This result may be (certainly) due to an error in reporting the score\n",
    "\n",
    "## gray zone\n",
    "\n",
    "It seems there is a \"gray zone\" for abstracts that were between the minimal score for accepted abstracts and the maximal score for rejected ones:"
   ]
  },
  {
   "cell_type": "code",
   "execution_count": 10,
   "metadata": {},
   "outputs": [
    {
     "name": "stdout",
     "output_type": "stream",
     "text": [
      "Minimal score for an accepted abstract 5.833\n"
     ]
    }
   ],
   "source": [
    "score_min = score[score_sheet['Abstract accepted?']=='Yes'].min()\n",
    "print(f\"Minimal score for an accepted abstract {score_min:.3f}\")"
   ]
  },
  {
   "cell_type": "code",
   "execution_count": 11,
   "metadata": {},
   "outputs": [
    {
     "name": "stdout",
     "output_type": "stream",
     "text": [
      "Maximal score for a rejected abstract 6.357\n"
     ]
    }
   ],
   "source": [
    "score_max = score[score_sheet['Abstract accepted?']=='No'].max()\n",
    "print(f\"Maximal score for a rejected abstract {score_max:.3f}\")"
   ]
  },
  {
   "cell_type": "code",
   "execution_count": 12,
   "metadata": {},
   "outputs": [
    {
     "name": "stdout",
     "output_type": "stream",
     "text": [
      "Abstracts in gray zone 9\n"
     ]
    }
   ],
   "source": [
    "gray_zone = score[(score_min < score) & ( score < score_max)]\n",
    "print(f\"Abstracts in gray zone {len(gray_zone)}\")"
   ]
  },
  {
   "cell_type": "code",
   "execution_count": 15,
   "metadata": {},
   "outputs": [
    {
     "name": "stdout",
     "output_type": "stream",
     "text": [
      "Percent abstracts in gray zone = 11.4%\n"
     ]
    }
   ],
   "source": [
    "print(f\"Percent abstracts in gray zone = {len(gray_zone)/len(score)*100:.1f}%\")"
   ]
  },
  {
   "cell_type": "code",
   "execution_count": 16,
   "metadata": {},
   "outputs": [
    {
     "name": "stdout",
     "output_type": "stream",
     "text": [
      "Predicted total abstracts in gray zone = 100\n"
     ]
    }
   ],
   "source": [
    "print(f\"Predicted total abstracts in gray zone = {int(len(gray_zone)/len(score)*submitted_abstracts)}\")"
   ]
  },
  {
   "cell_type": "markdown",
   "metadata": {},
   "source": [
    "Out of the total of $881$ abstract, it is certainly worth to put more attention at these $100$ abstracts which are closer to the threshold. "
   ]
  },
  {
   "cell_type": "markdown",
   "metadata": {},
   "source": [
    "## reliability \n",
    "\n"
   ]
  }
 ],
 "metadata": {
  "colab": {
   "collapsed_sections": [],
   "include_colab_link": true,
   "name": "Welcome To Colaboratory",
   "provenance": [],
   "toc_visible": true
  },
  "kernelspec": {
   "display_name": "Python 3 (ipykernel)",
   "language": "python",
   "name": "python3"
  },
  "language_info": {
   "codemirror_mode": {
    "name": "ipython",
    "version": 3
   },
   "file_extension": ".py",
   "mimetype": "text/x-python",
   "name": "python",
   "nbconvert_exporter": "python",
   "pygments_lexer": "ipython3",
   "version": "3.9.7"
  }
 },
 "nbformat": 4,
 "nbformat_minor": 4
}
